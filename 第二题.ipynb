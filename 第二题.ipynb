{
 "cells": [
  {
   "cell_type": "code",
   "execution_count": 2,
   "id": "00ee5351-df07-4226-9175-1ae7732f7dfb",
   "metadata": {
    "execution": {
     "iopub.execute_input": "2025-01-03T16:11:30.311956Z",
     "iopub.status.busy": "2025-01-03T16:11:30.311617Z",
     "iopub.status.idle": "2025-01-03T16:11:31.206761Z",
     "shell.execute_reply": "2025-01-03T16:11:31.206251Z",
     "shell.execute_reply.started": "2025-01-03T16:11:30.311934Z"
    },
    "tags": []
   },
   "outputs": [],
   "source": [
    "import numpy as np\n",
    "import matplotlib.pyplot as plt\n",
    "from scipy.stats import norm\n",
    "from scipy.integrate import quad\n",
    "from scipy.stats import wasserstein_distance"
   ]
  },
  {
   "cell_type": "code",
   "execution_count": 15,
   "id": "9afb3d00-e72f-4ebb-8b4c-4f5e2767a935",
   "metadata": {
    "ExecutionIndicator": {
     "show": false
    },
    "execution": {
     "iopub.execute_input": "2025-01-03T16:20:26.105364Z",
     "iopub.status.busy": "2025-01-03T16:20:26.105037Z",
     "iopub.status.idle": "2025-01-03T16:20:26.113875Z",
     "shell.execute_reply": "2025-01-03T16:20:26.113421Z",
     "shell.execute_reply.started": "2025-01-03T16:20:26.105345Z"
    },
    "tags": []
   },
   "outputs": [],
   "source": [
    "# 目标混合高斯分布参数\n",
    "weights = [0.3, 0.7]\n",
    "means = [4, 7]\n",
    "std_devs = [np.sqrt(0.3), np.sqrt(2)]\n",
    "\n",
    "def target_pdf(x):\n",
    "    return weights[0] * norm.pdf(x, means[0], std_devs[0]) + weights[1] * norm.pdf(x, means[1], std_devs[1])\n",
    "\n",
    "def U(x):\n",
    "    return -np.log(max(target_pdf(x), 1e-300))\n",
    "\n",
    "def grad_U(x):\n",
    "    # 计算 ∇U(x) = -∇log p(x)\n",
    "    # 对于混合高斯分布：\n",
    "    p = target_pdf(x)\n",
    "    dp_dx = (weights[0] * norm.pdf(x, means[0], std_devs[0]) * (- (x - means[0]) / (std_devs[0]**2)) +\n",
    "             weights[1] * norm.pdf(x, means[1], std_devs[1]) * (- (x - means[1]) / (std_devs[1]**2)))\n",
    "    return dp_dx / max(p, 1e-300)\n",
    "\n",
    "def leapfrog(x, p, epsilon, L):\n",
    "    x_new = x\n",
    "    p_new = p - 0.5 * epsilon * grad_U(x_new)\n",
    "    for _ in range(L):\n",
    "        x_new = x_new + epsilon * p_new\n",
    "        if _ != L - 1:\n",
    "            p_new = p_new - epsilon * grad_U(x_new)\n",
    "    p_new = p_new - 0.5 * epsilon * grad_U(x_new)\n",
    "    return x_new, p_new\n",
    "\n",
    "def HMC_sampling(x0, num_samples, epsilon, L):\n",
    "    samples = []\n",
    "    x_current = x0\n",
    "    for i in range(num_samples):\n",
    "        p_current = np.random.normal(0, 1)\n",
    "        x_proposed, p_proposed = leapfrog(x_current, p_current, epsilon, L)\n",
    "        \n",
    "        # 计算哈密尔顿量\n",
    "        current_U = U(x_current)\n",
    "        current_K = 0.5 * p_current**2\n",
    "        proposed_U = U(x_proposed)\n",
    "        proposed_K = 0.5 * p_proposed**2\n",
    "        \n",
    "        # 接受概率\n",
    "        delta_H = (proposed_U + proposed_K) - (current_U + current_K)\n",
    "        if np.random.uniform(0, 1) < np.exp(-delta_H):\n",
    "            samples.append(x_proposed)\n",
    "            x_current = x_proposed\n",
    "        else:\n",
    "            samples.append(x_current)\n",
    "            \n",
    "        if i % 1000 == 0: \n",
    "            print(f\"Step {i}/{num_samples} | x_current: {x_current:.4f}\")\n",
    "            \n",
    "    return np.array(samples)"
   ]
  },
  {
   "cell_type": "code",
   "execution_count": 16,
   "id": "0857e1aa-b373-43de-89e0-03d7c7d7cd20",
   "metadata": {
    "ExecutionIndicator": {
     "show": false
    },
    "execution": {
     "iopub.execute_input": "2025-01-03T16:20:28.895309Z",
     "iopub.status.busy": "2025-01-03T16:20:28.894873Z",
     "iopub.status.idle": "2025-01-03T16:21:30.648995Z",
     "shell.execute_reply": "2025-01-03T16:21:30.648461Z",
     "shell.execute_reply.started": "2025-01-03T16:20:28.895285Z"
    },
    "tags": []
   },
   "outputs": [
    {
     "name": "stdout",
     "output_type": "stream",
     "text": [
      "Step 0/10000 | x_current: 0.0000\n",
      "Step 1000/10000 | x_current: 3.9610\n",
      "Step 2000/10000 | x_current: 4.8614\n",
      "Step 3000/10000 | x_current: 4.1348\n",
      "Step 4000/10000 | x_current: 4.6500\n",
      "Step 5000/10000 | x_current: 8.0721\n",
      "Step 6000/10000 | x_current: 4.9580\n",
      "Step 7000/10000 | x_current: 5.7020\n",
      "Step 8000/10000 | x_current: 8.4588\n",
      "Step 9000/10000 | x_current: 6.0988\n"
     ]
    }
   ],
   "source": [
    "# 参数设置\n",
    "x0 = 0.0          # 初始位置\n",
    "num_samples = 10000\n",
    "epsilon = 0.01     # 步长\n",
    "L = 20           # 步数\n",
    "samples = HMC_sampling(x0, num_samples, epsilon, L)\n",
    "\n",
    "# 丢弃前1000个作为烧入期\n",
    "burn_in = 1000\n",
    "samples = samples[burn_in:]"
   ]
  },
  {
   "cell_type": "code",
   "execution_count": 17,
   "id": "d1b641fe-20f0-4d42-879b-a793002c7477",
   "metadata": {
    "ExecutionIndicator": {
     "show": true
    },
    "execution": {
     "iopub.execute_input": "2025-01-03T16:21:35.654065Z",
     "iopub.status.busy": "2025-01-03T16:21:35.653744Z",
     "iopub.status.idle": "2025-01-03T16:21:35.821195Z",
     "shell.execute_reply": "2025-01-03T16:21:35.820731Z",
     "shell.execute_reply.started": "2025-01-03T16:21:35.654044Z"
    },
    "tags": []
   },
   "outputs": [
    {
     "data": {
      "image/png": "[encoded data removed]",
      "text/plain": [
       "<Figure size 640x480 with 1 Axes>"
      ]
     },
     "metadata": {},
     "output_type": "display_data"
    }
   ],
   "source": [
    "# 绘制目标分布和采样分布\n",
    "x_vals = np.linspace(-2, 12, 1000)\n",
    "plt.plot(x_vals, target_pdf(x_vals), label='target', color='red')\n",
    "plt.hist(samples, bins=50, density=True, alpha=0.5, label='HMC')\n",
    "plt.legend()\n",
    "plt.xlabel('x')\n",
    "plt.ylabel('density')\n",
    "plt.title('HMC')\n",
    "plt.show()"
   ]
  },
  {
   "cell_type": "code",
   "execution_count": 18,
   "id": "390dfa3a-c857-471d-b84f-e49b1de5b9b9",
   "metadata": {
    "ExecutionIndicator": {
     "show": true
    },
    "execution": {
     "iopub.execute_input": "2025-01-03T16:21:40.652729Z",
     "iopub.status.busy": "2025-01-03T16:21:40.652402Z",
     "iopub.status.idle": "2025-01-03T16:21:40.658076Z",
     "shell.execute_reply": "2025-01-03T16:21:40.657604Z",
     "shell.execute_reply.started": "2025-01-03T16:21:40.652710Z"
    },
    "tags": []
   },
   "outputs": [
    {
     "name": "stdout",
     "output_type": "stream",
     "text": [
      "KL散度: 6.33029851928784\n"
     ]
    }
   ],
   "source": [
    "def kl_divergence(samples, x_min=-2, x_max=12, num_points=1000):\n",
    "    x_vals = np.linspace(x_min, x_max, num_points)\n",
    "    dx = x_vals[1] - x_vals[0]\n",
    "    p = target_pdf(x_vals)\n",
    "    # 估计采样分布的密度\n",
    "    hist, _ = np.histogram(samples, bins=num_points, range=(x_min, x_max), density=True)\n",
    "    q = hist\n",
    "    # 防止log(0)\n",
    "    q = np.maximum(q, 1e-300)\n",
    "    kl = np.sum(p * np.log(p / q)) * dx\n",
    "    return kl\n",
    "\n",
    "kl = kl_divergence(samples)\n",
    "print(f\"KL散度: {kl}\")"
   ]
  },
  {
   "cell_type": "code",
   "execution_count": 19,
   "id": "f0527fc2-fcae-464b-a621-3a9fcdd0268c",
   "metadata": {
    "ExecutionIndicator": {
     "show": true
    },
    "execution": {
     "iopub.execute_input": "2025-01-03T16:21:42.630285Z",
     "iopub.status.busy": "2025-01-03T16:21:42.629937Z",
     "iopub.status.idle": "2025-01-03T16:21:42.635323Z",
     "shell.execute_reply": "2025-01-03T16:21:42.634849Z",
     "shell.execute_reply.started": "2025-01-03T16:21:42.630266Z"
    },
    "tags": []
   },
   "outputs": [
    {
     "name": "stdout",
     "output_type": "stream",
     "text": [
      "Wasserstein距离: 0.9324564552434076\n"
     ]
    }
   ],
   "source": [
    "wasserstein_dist = wasserstein_distance(samples, \n",
    "                                       [means[0]] * int(weights[0]*num_samples) + [means[1]] * int(weights[1]*num_samples))\n",
    "print(f\"Wasserstein距离: {wasserstein_dist}\")"
   ]
  },
  {
   "cell_type": "code",
   "execution_count": 20,
   "id": "319085a5-773b-4b2b-8710-5d2eef29a3a5",
   "metadata": {
    "ExecutionIndicator": {
     "show": false
    },
    "execution": {
     "iopub.execute_input": "2025-01-03T16:21:44.014331Z",
     "iopub.status.busy": "2025-01-03T16:21:44.013998Z",
     "iopub.status.idle": "2025-01-03T16:21:44.018554Z",
     "shell.execute_reply": "2025-01-03T16:21:44.018107Z",
     "shell.execute_reply.started": "2025-01-03T16:21:44.014312Z"
    },
    "tags": []
   },
   "outputs": [
    {
     "name": "stdout",
     "output_type": "stream",
     "text": [
      "目标均值: 6.1, 采样均值: 6.795477617058855\n",
      "目标方差: 3.38, 采样方差: 3.059078095542414\n"
     ]
    }
   ],
   "source": [
    "#目标分布的统计量\n",
    "target_mean = weights[0]*means[0] + weights[1]*means[1]\n",
    "target_var = weights[0]*(std_devs[0]**2 + (means[0]-target_mean)**2) + weights[1]*(std_devs[1]**2 + (means[1]-target_mean)**2)\n",
    "#采样分布的统计量\n",
    "sample_mean = np.mean(samples)\n",
    "sample_var = np.var(samples)\n",
    "print(f\"目标均值: {target_mean}, 采样均值: {sample_mean}\")\n",
    "print(f\"目标方差: {target_var}, 采样方差: {sample_var}\")"
   ]
  }
 ],
 "metadata": {
  "kernelspec": {
   "display_name": "Python 3 (ipykernel)",
   "language": "python",
   "name": "python3"
  },
  "language_info": {
   "codemirror_mode": {
    "name": "ipython",
    "version": 3
   },
   "file_extension": ".py",
   "mimetype": "text/x-python",
   "name": "python",
   "nbconvert_exporter": "python",
   "pygments_lexer": "ipython3",
   "version": "3.10.14"
  }
 },
 "nbformat": 4,
 "nbformat_minor": 5
}
